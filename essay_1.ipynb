{
  "nbformat": 4,
  "nbformat_minor": 0,
  "metadata": {
    "colab": {
      "provenance": []
    },
    "kernelspec": {
      "name": "python3",
      "display_name": "Python 3"
    },
    "language_info": {
      "name": "python"
    }
  },
  "cells": [
    {
      "cell_type": "markdown",
      "source": [
        "##Essay 1 - ETL\n",
        "######API URL: https://berita-indo-api-next.vercel.app/api/cnn-news/teknologi"
      ],
      "metadata": {
        "id": "YgVzWfc_CwhG"
      }
    },
    {
      "cell_type": "code",
      "source": [
        "import requests\n",
        "import pandas as pd\n",
        "\n",
        "url = \"https://berita-indo-api-next.vercel.app/api/cnn-news/teknologi\"\n",
        "response = requests.get(url)\n",
        "\n",
        "data = response.json()\n",
        "data_list = data[\"data\"]\n",
        "\n",
        "df = pd.DataFrame(data_list)\n",
        "\n",
        "\n",
        "\n",
        "df_agg = df.groupby(\"creator\").size().reset_index(name=\"total\")\n",
        "\n"
      ],
      "metadata": {
        "id": "MO8xe5U6W5_k"
      },
      "execution_count": 34,
      "outputs": []
    }
  ]
}
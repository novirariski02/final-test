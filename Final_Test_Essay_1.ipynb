{
  "nbformat": 4,
  "nbformat_minor": 0,
  "metadata": {
    "colab": {
      "provenance": []
    },
    "kernelspec": {
      "name": "python3",
      "display_name": "Python 3"
    },
    "language_info": {
      "name": "python"
    }
  },
  "cells": [
    {
      "cell_type": "markdown",
      "source": [
        "##Essay 1 - ETL\n",
        "######API URL: https://berita-indo-api-next.vercel.app/api/cnn-news/teknologi"
      ],
      "metadata": {
        "id": "YgVzWfc_CwhG"
      }
    },
    {
      "cell_type": "code",
      "source": [
        "import requests\n",
        "import pandas as pd\n",
        "\n",
        "api_url = \"https://berita-indo-api-next.vercel.app/api/cnn-news/teknologi\"\n",
        "response = requests.get(api_url)\n",
        "api_data = response.json()\n",
        "\n",
        "news_data = api_data.get('data', [])\n",
        "df = pd.DataFrame(news_data)\n",
        "\n",
        "df['isoDate'] = pd.to_datetime(df['isoDate'], utc=True)\n",
        "\n"
      ],
      "metadata": {
        "id": "MO8xe5U6W5_k"
      },
      "execution_count": 34,
      "outputs": []
    }
  ]
}